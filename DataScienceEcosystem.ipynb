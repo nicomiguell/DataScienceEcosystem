{
 "cells": [
  {
   "cell_type": "markdown",
   "id": "e7367944-86df-431a-8dac-763de3d6a8e9",
   "metadata": {},
   "source": [
    "# Data Science Tools and Ecosystem"
   ]
  },
  {
   "cell_type": "markdown",
   "id": "4e3ae7ca-9a61-4a9b-b063-6349dd416afd",
   "metadata": {},
   "source": [
    "In this notebook, Data Science Tools and Ecosystem are summarized."
   ]
  },
  {
   "cell_type": "markdown",
   "id": "a2d3fa66-67e5-4886-b9bd-c7d08cbc2c07",
   "metadata": {},
   "source": [
    "**Objetives:**\n",
    "- List popular languages for Data Science\n",
    "- List commonly libraries used by Data Scientists\n",
    "- Indicate three development environment open source tools used in Data Science\n",
    "- Evaluate basic arithmetic expressions"
   ]
  },
  {
   "cell_type": "markdown",
   "id": "09472537-2698-474a-a452-a82421dd4bb5",
   "metadata": {},
   "source": [
    "Some of the popular languages that Data Scientists use are:\n",
    "1. Python\n",
    "3. R\n",
    "4. SQL\n",
    "5. Julia\n",
    "6. Scala\n",
    "7. Java"
   ]
  },
  {
   "cell_type": "markdown",
   "id": "b117ad33-5fc1-4cec-ad44-31d6a06da5c1",
   "metadata": {},
   "source": [
    "Some of the commonly used libraries used by Data Scientists include:\n",
    "1. pandas\n",
    "2. NumPy\n",
    "3. scikit-learn\n",
    "4. Matplotlib\n",
    "6. TensorFlow\n",
    "5. PyTorch"
   ]
  },
  {
   "cell_type": "markdown",
   "id": "f447d903-9075-42dd-b635-1d54f18102c2",
   "metadata": {},
   "source": [
    "| Data Science Tools |\n",
    "| ------------------ |\n",
    "| Jupyter Notebook |\n",
    "| RStudio |\n",
    "| Visual Studio Code |"
   ]
  },
  {
   "cell_type": "markdown",
   "id": "5a63da0a-cbbc-4c4d-8a6e-d846db036fa7",
   "metadata": {},
   "source": [
    "### Below are a few examples of evaluating arithmetic expressions in Python\n",
    "In the following examples, we will evaluate basic arithmetic expressions."
   ]
  },
  {
   "cell_type": "code",
   "execution_count": 8,
   "id": "00b4d5b7-0eda-45ff-851a-8367e0fb8061",
   "metadata": {},
   "outputs": [
    {
     "data": {
      "text/plain": [
       "17"
      ]
     },
     "execution_count": 8,
     "metadata": {},
     "output_type": "execute_result"
    }
   ],
   "source": [
    "# This a simple arithmetic expression to mutiply then add integers\n",
    "(3*4)+5"
   ]
  },
  {
   "cell_type": "code",
   "execution_count": 9,
   "id": "d36684e3-6a16-43bc-b79e-2145307e77ed",
   "metadata": {},
   "outputs": [
    {
     "data": {
      "text/plain": [
       "3.3333333333333335"
      ]
     },
     "execution_count": 9,
     "metadata": {},
     "output_type": "execute_result"
    }
   ],
   "source": [
    "# This will convert 200 minutes to hours by diving by 60\n",
    "200/60"
   ]
  },
  {
   "cell_type": "markdown",
   "id": "a7119e8f-3dff-4e05-996a-41b9af18e207",
   "metadata": {},
   "source": [
    "## Autor\n",
    "Nicolás Alexis Miguel"
   ]
  },
  {
   "cell_type": "code",
   "execution_count": null,
   "id": "07b77782-6bb1-46ce-8bfc-9b302655eebe",
   "metadata": {},
   "outputs": [],
   "source": []
  }
 ],
 "metadata": {
  "kernelspec": {
   "display_name": "Python [conda env:base] *",
   "language": "python",
   "name": "conda-base-py"
  },
  "language_info": {
   "codemirror_mode": {
    "name": "ipython",
    "version": 3
   },
   "file_extension": ".py",
   "mimetype": "text/x-python",
   "name": "python",
   "nbconvert_exporter": "python",
   "pygments_lexer": "ipython3",
   "version": "3.12.7"
  }
 },
 "nbformat": 4,
 "nbformat_minor": 5
}
